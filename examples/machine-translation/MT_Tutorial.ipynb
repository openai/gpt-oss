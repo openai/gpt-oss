{
 "cells": [
  {
   "cell_type": "markdown",
   "metadata": {},
   "source": [
    "# Machine Translation with GPT-OSS Models - Tutorial\n",
    "\n",
    "This notebook demonstrates how to fine-tune GPT-OSS models for machine translation using the provided toolkit.\n",
    "\n",
    "## Quick Start Guide\n",
    "\n",
    "### 1. Installation"
   ]
  },
  {
   "cell_type": "code",
   "execution_count": null,
   "metadata": {},
   "outputs": [],
   "source": [
    "# Install required packages\n",
    "!pip install torch transformers datasets trl peft accelerate sacrebleu pandas"
   ]
  },
  {
   "cell_type": "markdown",
   "metadata": {},
   "source": [
    "### 2. Import Libraries"
   ]
  },
  {
   "cell_type": "code",
   "execution_count": null,
   "metadata": {},
   "outputs": [],
   "source": [
    "import pandas as pd\n",
    "import torch\n",
    "from datasets import load_dataset\n",
    "import subprocess\n",
    "import os\n",
    "\n",
    "print(f\"PyTorch version: {torch.__version__}\")\n",
    "print(f\"CUDA available: {torch.cuda.is_available()}\")"
   ]
  },
  {
   "cell_type": "markdown",
   "metadata": {},
   "source": [
    "### 3. Prepare Your Data\n",
    "\n",
    "Create a CSV file with 'source' and 'target' columns:"
   ]
  },
  {
   "cell_type": "code",
   "execution_count": null,
   "metadata": {},
   "outputs": [],
   "source": [
    "# Create sample translation data\n",
    "sample_data = {\n",
    "    'source': [\n",
    "        \"Hello, how are you today?\",\n",
    "        \"I would like to order a coffee, please.\",\n",
    "        \"The weather is beautiful today.\",\n",
    "        \"Can you help me find the train station?\",\n",
    "        \"Thank you for your help.\"\n",
    "    ],\n",
    "    'target': [\n",
    "        \"Hola, ¿cómo estás hoy?\",\n",
    "        \"Me gustaría pedir un café, por favor.\",\n",
    "        \"El clima está hermoso hoy.\",\n",
    "        \"¿Puedes ayudarme a encontrar la estación de tren?\",\n",
    "        \"Gracias por tu ayuda.\"\n",
    "    ]\n",
    "}\n",
    "\n",
    "df = pd.DataFrame(sample_data)\n",
    "df.to_csv('my_translation_data.csv', index=False)\n",
    "print(\"Sample data created!\")\n",
    "print(df)"
   ]
  },
  {
   "cell_type": "markdown",
   "metadata": {},
   "source": [
    "### 4. Train the Model\n",
    "\n",
    "Use the machine translation script to train your model:"
   ]
  },
  {
   "cell_type": "code",
   "execution_count": null,
   "metadata": {},
   "outputs": [],
   "source": [
    "# Training command\n",
    "cmd = [\n",
    "    \"python\", \"machine_translation.py\",\n",
    "    \"--config\", \"configs/mt_lora.yaml\",\n",
    "    \"--source_lang\", \"en\",\n",
    "    \"--target_lang\", \"es\",\n",
    "    \"--dataset_name\", \"csv\",\n",
    "    \"--dataset_config\", \"data_files=my_translation_data.csv\",\n",
    "    \"--num_train_epochs\", \"3\",\n",
    "    \"--per_device_train_batch_size\", \"2\",\n",
    "    \"--output_dir\", \"./my_translator\"\n",
    "]\n",
    "\n",
    "print(\"Starting training...\")\n",
    "print(\" \".join(cmd))\n",
    "\n",
    "# Run training (uncomment to execute)\n",
    "# result = subprocess.run(cmd, capture_output=True, text=True)\n",
    "# print(result.stdout)\n",
    "# if result.stderr:\n",
    "#     print(\"Errors:\", result.stderr)"
   ]
  },
  {
   "cell_type": "markdown",
   "metadata": {},
   "source": [
    "### 5. Test Your Model\n",
    "\n",
    "Use the demo script to test translations:"
   ]
  },
  {
   "cell_type": "code",
   "execution_count": null,
   "metadata": {},
   "outputs": [],
   "source": [
    "# Test translation\n",
    "test_cmd = [\n",
    "    \"python\", \"demo_translation.py\",\n",
    "    \"--model_path\", \"./my_translator\",\n",
    "    \"--text\", \"Good morning, how can I help you?\"\n",
    "]\n",
    "\n",
    "print(\"Testing translation...\")\n",
    "print(\" \".join(test_cmd))\n",
    "\n",
    "# Run test (uncomment to execute)\n",
    "# result = subprocess.run(test_cmd, capture_output=True, text=True)\n",
    "# print(result.stdout)"
   ]
  },
  {
   "cell_type": "markdown",
   "metadata": {},
   "source": [
    "### 6. Batch Translation\n",
    "\n",
    "Translate multiple sentences from a file:"
   ]
  },
  {
   "cell_type": "code",
   "execution_count": null,
   "metadata": {},
   "outputs": [],
   "source": [
    "# Create test input file\n",
    "test_sentences = [\n",
    "    \"Welcome to our store.\",\n",
    "    \"What time do you close?\",\n",
    "    \"I need help with my order.\",\n",
    "    \"The food was delicious.\"\n",
    "]\n",
    "\n",
    "with open('test_sentences.txt', 'w') as f:\n",
    "    for sentence in test_sentences:\n",
    "        f.write(sentence + '\\n')\n",
    "\n",
    "print(\"Test sentences saved to test_sentences.txt\")"
   ]
  },
  {
   "cell_type": "code",
   "execution_count": null,
   "metadata": {},
   "outputs": [],
   "source": [
    "# Batch translation command\n",
    "batch_cmd = [\n",
    "    \"python\", \"generate_translation.py\",\n",
    "    \"--model_path\", \"./my_translator\",\n",
    "    \"--input_file\", \"test_sentences.txt\",\n",
    "    \"--output_file\", \"translations.txt\",\n",
    "    \"--source_lang\", \"en\",\n",
    "    \"--target_lang\", \"es\"\n",
    "]\n",
    "\n",
    "print(\"Batch translation command:\")\n",
    "print(\" \".join(batch_cmd))\n",
    "\n",
    "# Run batch translation (uncomment to execute)\n",
    "# result = subprocess.run(batch_cmd, capture_output=True, text=True)\n",
    "# print(result.stdout)"
   ]
  },
  {
   "cell_type": "markdown",
   "metadata": {},
   "source": [
    "### 7. Evaluate Your Model\n",
    "\n",
    "Calculate BLEU scores and other metrics:"
   ]
  },
  {
   "cell_type": "code",
   "execution_count": null,
   "metadata": {},
   "outputs": [],
   "source": [
    "# Evaluation command\n",
    "eval_cmd = [\n",
    "    \"python\", \"evaluate_translation.py\",\n",
    "    \"--model_path\", \"./my_translator\",\n",
    "    \"--dataset_name\", \"csv\",\n",
    "    \"--dataset_config\", \"data_files=my_translation_data.csv\",\n",
    "    \"--source_lang\", \"en\",\n",
    "    \"--target_lang\", \"es\",\n",
    "    \"--output_file\", \"evaluation_results.json\"\n",
    "]\n",
    "\n",
    "print(\"Evaluation command:\")\n",
    "print(\" \".join(eval_cmd))\n",
    "\n",
    "# Run evaluation (uncomment to execute)\n",
    "# result = subprocess.run(eval_cmd, capture_output=True, text=True)\n",
    "# print(result.stdout)"
   ]
  },
  {
   "cell_type": "markdown",
   "metadata": {},
   "source": [
    "## Configuration Options\n",
    "\n",
    "### Language Pairs\n",
    "- English ↔ Spanish: `--source_lang en --target_lang es`\n",
    "- English ↔ French: `--source_lang en --target_lang fr`\n",
    "- German ↔ English: `--source_lang de --target_lang en`\n",
    "\n",
    "### Training Modes\n",
    "- **LoRA (Recommended)**: `--config configs/mt_lora.yaml`\n",
    "- **Full Fine-tuning**: `--config configs/mt_full.yaml`\n",
    "- **Memory Optimized**: `--config configs/mt_lora_memory_optimized.yaml`\n",
    "\n",
    "### Dataset Formats\n",
    "- **CSV**: `--dataset_name csv --dataset_config data_files=your_data.csv`\n",
    "- **WMT**: `--dataset_name wmt14 --dataset_config de-en`\n",
    "- **OPUS**: `--dataset_name opus100 --dataset_config en-es`"
   ]
  },
  {
   "cell_type": "markdown",
   "metadata": {},
   "source": [
    "## Tips for Better Results\n",
    "\n",
    "1. **Data Quality**: Use high-quality, diverse translation pairs\n",
    "2. **Data Size**: More data generally leads to better results\n",
    "3. **Domain Matching**: Train on data similar to your use case\n",
    "4. **Hyperparameters**: Adjust learning rate and batch size based on your data\n",
    "5. **Evaluation**: Always evaluate on held-out test data\n",
    "\n",
    "## Troubleshooting\n",
    "\n",
    "- **Memory Issues**: Use smaller batch sizes or memory-optimized config\n",
    "- **CSV Parsing Errors**: Ensure proper CSV format with 'source' and 'target' columns\n",
    "- **Poor Translations**: Try more training epochs or better quality data\n",
    "- **CUDA Errors**: Check GPU memory and PyTorch CUDA compatibility"
   ]
  },
  {
   "cell_type": "markdown",
   "metadata": {},
   "source": [
    "## Next Steps\n",
    "\n",
    "1. **Scale Up**: Use larger datasets and models\n",
    "2. **Multi-language**: Train models for multiple language pairs\n",
    "3. **Domain Adaptation**: Fine-tune for specific domains (medical, legal, etc.)\n",
    "4. **Production**: Deploy your model using the provided scripts\n",
    "\n",
    "For more details, see the `MACHINE_TRANSLATION_README.md` and `EXAMPLE_WALKTHROUGH.md` files."
   ]
  }
 ],
 "metadata": {
  "kernelspec": {
   "display_name": "Python 3",
   "language": "python",
   "name": "python3"
  },
  "language_info": {
   "codemirror_mode": {
    "name": "ipython",
    "version": 3
   },
   "file_extension": ".py",
   "mimetype": "text/x-python",
   "name": "python",
   "nbconvert_exporter": "python",
   "pygments_lexer": "ipython3",
   "version": "3.8.5"
  }
 },
 "nbformat": 4,
 "nbformat_minor": 4
}
